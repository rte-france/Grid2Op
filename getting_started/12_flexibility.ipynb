{
 "cells": [
  {
   "cell_type": "markdown",
   "metadata": {},
   "source": [
    "## Flexibility and Shedding\n",
    "By default, an episode ends if one of the following conditions is met:\n",
    "1. **End of Chronics**: The agent reaches the end of the chronics (timeseries) for an Episode (no more data => scenario ends)\n",
    "2. **Disconnected Generator / Load**: A load, generator is disconnected from the grid. This also applies to Energy Storage Systems (ESSs) if they are being controlled (agent told it to charge / discharge some energy)\n",
    "3. **Islanding**: The grid splits into multiple parts / islands. For example, a load of generator is alone on a busbar. \n",
    "4. **Powerflow Divergence**: The redispatching routine \"diverges\": this means that Grid2OP is not able to find a setpoint for the generators for which both \"pmin, pmax and the ramps constrained\" as well as the \"load / generator balancing the solver \"diverges\" and is not able to compute the next state (often meaning there are no feasible solutions to the Kirchoff's laws)\n",
    "\n",
    "This notebook explores what happens if condition (2) is loosened, that is if we allow loads and generators to become disconnected from the grid. As a bonus we also examine the possibility to redispatch flexible loads. "
   ]
  },
  {
   "cell_type": "markdown",
   "metadata": {},
   "source": [
    "### Flexibility\n",
    "Flexibility is the ability to perform demand response at loads. That is flexibility allows loads to be controlled. The additional control this offers may allow for a wider diveresity of scenarios to successfully be resolved. <br>\n",
    "Currently a load is either flexible or not. If it is flexible, the demand can be changed anywhere between 0 and 100% of the load's maximum size (subject to ramping constraints). In practise, commercial or residential participants in demand response may only have partial flexibility."
   ]
  },
  {
   "cell_type": "code",
   "execution_count": null,
   "metadata": {},
   "outputs": [],
   "source": [
    "import numpy as np\n",
    "import pandas as pd\n",
    "import matplotlib.pyplot as plt\n",
    "import grid2op\n",
    "from grid2op.PlotGrid import PlotMatplot\n",
    "from pathlib import Path\n",
    "env_dir = Path.cwd().parent / \"grid2op\" / \"data_test\" / \"5bus_example_with_flexibility\"\n",
    "env = grid2op.make(env_dir, support_shedding=False)\n",
    "plotter = PlotMatplot(env.observation_space, gen_name=True, line_id=True, load_name=True)\n",
    "obs = env.reset()\n",
    "plotter.plot_obs(obs)\n",
    "plt.show()"
   ]
  },
  {
   "cell_type": "markdown",
   "metadata": {},
   "source": [
    "Here we simulate a single flexibility action on the load at substation 3. <br> Since the flexibility requested results in a larger demand than the size of the load, it is truncated."
   ]
  },
  {
   "cell_type": "code",
   "execution_count": null,
   "metadata": {},
   "outputs": [],
   "source": [
    "import ipywidgets as widgets\n",
    "\n",
    "tab = widgets.Tab(children=[out1 := widgets.Output(), out2 := widgets.Output(), out3 := widgets.Output()])\n",
    "tab.set_title(0, \"Initial\"); tab.set_title(1, \"Flex Active\"); tab.set_title(2, \"Step After Flex\")\n",
    "display(tab)\n",
    "\n",
    "env.set_id(0)\n",
    "obs = env.reset()\n",
    "nothing_obs, reward, done, info = env.step(env.action_space({}))\n",
    "\n",
    "env.set_id(0)\n",
    "obs = env.reset()\n",
    "flex_act = env.action_space({\"flexibility\":{\"load_3_1\":2.0}}) # Above maximum (9.7), so will be truncated!\n",
    "                             # \"redispatch\":{\"gen_1_1\":0.1}})\n",
    "flex_obs, reward, done, flex_info = env.step(flex_act)\n",
    "next_obs, reward, done, next_info = env.step(env.action_space({}))\n",
    "\n",
    "figsize = (8,6)\n",
    "with out1:\n",
    "    fig1, axes1 = plt.subplots(nrows=1, ncols=1, figsize=figsize)\n",
    "    plotter.plot_obs(nothing_obs, figure=fig1)\n",
    "    plt.show(fig1)\n",
    "with out2:\n",
    "    fig2, axes2 = plt.subplots(nrows=1, ncols=1, figsize=figsize)\n",
    "    plotter.plot_obs(flex_obs, figure=fig2)\n",
    "    plt.show(fig2)\n",
    "with out3:\n",
    "    fig3, axes3 = plt.subplots(nrows=1, ncols=1, figsize=figsize)\n",
    "    plotter.plot_obs(next_obs, figure=fig3)\n",
    "    plt.show(fig3)"
   ]
  },
  {
   "cell_type": "code",
   "execution_count": null,
   "metadata": {},
   "outputs": [],
   "source": []
  }
 ],
 "metadata": {
  "kernelspec": {
   "display_name": ".env",
   "language": "python",
   "name": "python3"
  },
  "language_info": {
   "codemirror_mode": {
    "name": "ipython",
    "version": 3
   },
   "file_extension": ".py",
   "mimetype": "text/x-python",
   "name": "python",
   "nbconvert_exporter": "python",
   "pygments_lexer": "ipython3",
   "version": "3.11.9"
  }
 },
 "nbformat": 4,
 "nbformat_minor": 2
}
